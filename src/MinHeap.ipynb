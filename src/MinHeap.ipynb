{
 "cells": [
  {
   "cell_type": "code",
   "execution_count": 2,
   "id": "c71d58c7-c167-4679-b9a7-9f92b60458cc",
   "metadata": {},
   "outputs": [],
   "source": [
    "import numpy as np\n",
    "import math"
   ]
  },
  {
   "cell_type": "code",
   "execution_count": 101,
   "id": "c9ea1528-32f6-4cd1-b145-c14415e67eb7",
   "metadata": {},
   "outputs": [],
   "source": [
    "class MinHeap:\n",
    "    def __init__(self):\n",
    "        self.nodes = []\n",
    "\n",
    "    def get_min(self):\n",
    "        return self.nodes[0]\n",
    "\n",
    "    def pop_min(self):\n",
    "        if len(self.nodes) == 0:\n",
    "            return -1\n",
    "        elif len(self.nodes) == 1:\n",
    "            m = self.nodes[0]\n",
    "            self.nodes = []\n",
    "            return m\n",
    "        else:\n",
    "            m = self.nodes[0]\n",
    "            l = self.nodes[-1]\n",
    "            self.nodes = self.nodes[:-1]\n",
    "            self.nodes[0] = l\n",
    "            # perculate down\n",
    "            p = 0\n",
    "            l = 2*p + 1\n",
    "            r = 2*p + 2\n",
    "            while r < len(self.nodes) and self.nodes[p] > min(self.nodes[l], self.nodes[r]):\n",
    "                if self.nodes[l] > self.nodes[r]:\n",
    "                    t = self.nodes[p]\n",
    "                    self.nodes[p] = self.nodes[r]\n",
    "                    self.nodes[r] = t\n",
    "                    p = r\n",
    "                else:\n",
    "                    t = self.nodes[p]\n",
    "                    self.nodes[p] = self.nodes[l]\n",
    "                    self.nodes[l] = t\n",
    "                    p = l\n",
    "                l = 2*p + 1\n",
    "                r = 2*p + 2\n",
    "            # accounting for odd case where there is not a left and right\n",
    "            if len(self.nodes) % 2 == 0 and self.nodes[-1] < self.nodes[(len(self.nodes) - 2) // 2]:\n",
    "                # swap values\n",
    "                t = self.nodes[-1]\n",
    "                self.nodes[-1] = self.nodes[(len(self.nodes) - 2) // 2]\n",
    "                self.nodes[(len(self.nodes) - 2) // 2] = t\n",
    "            return m\n",
    "\n",
    "    def insert(self, x):\n",
    "        self.nodes.append(x)\n",
    "        i = len(self.nodes)-1\n",
    "        p = (i - 1) // 2\n",
    "        while i > 0 and self.nodes[p] > self.nodes[i]:\n",
    "            t = self.nodes[p]\n",
    "            self.nodes[p] = self.nodes[i]\n",
    "            self.nodes[i] = t\n",
    "            i = p\n",
    "            p = (i - 1) // 2\n"
   ]
  },
  {
   "cell_type": "code",
   "execution_count": 102,
   "id": "d410d53b-4aa2-4d44-a69b-6996733e8cf4",
   "metadata": {},
   "outputs": [],
   "source": [
    "mh = MinHeap()\n",
    "\n",
    "n = np.random.randint(1000,size=50)\n",
    "for i in range(50):\n",
    "    mh.insert(int(n[i]))"
   ]
  },
  {
   "cell_type": "code",
   "execution_count": 103,
   "id": "dff17a61-32b8-4da5-aab1-e555cca80a5e",
   "metadata": {},
   "outputs": [
    {
     "name": "stdout",
     "output_type": "stream",
     "text": [
      "[26, 125, 35, 137, 151, 70, 242, 137, 416, 276, 306, 109, 250, 535, 467, 289, 276, 423, 423, 464, 452, 329, 385, 356, 162, 576, 541, 986, 659, 909, 651, 781, 928, 924, 655, 903, 663, 979, 752, 873, 828, 783, 652, 412, 450, 513, 499, 869, 813, 386]\n"
     ]
    }
   ],
   "source": [
    "print(mh.nodes)"
   ]
  },
  {
   "cell_type": "code",
   "execution_count": 104,
   "id": "873ed71a-255a-4df2-b7f5-375568cff902",
   "metadata": {},
   "outputs": [
    {
     "data": {
      "text/plain": [
       "True"
      ]
     },
     "execution_count": 104,
     "metadata": {},
     "output_type": "execute_result"
    }
   ],
   "source": [
    "sorted(mh.nodes) == [mh.pop_min() for i in range(50)]"
   ]
  },
  {
   "cell_type": "code",
   "execution_count": null,
   "id": "7e4f6f2b-ba5f-413a-a00f-ccfd6f05ac64",
   "metadata": {},
   "outputs": [],
   "source": []
  }
 ],
 "metadata": {
  "kernelspec": {
   "display_name": "Python 3 (ipykernel)",
   "language": "python",
   "name": "python3"
  },
  "language_info": {
   "codemirror_mode": {
    "name": "ipython",
    "version": 3
   },
   "file_extension": ".py",
   "mimetype": "text/x-python",
   "name": "python",
   "nbconvert_exporter": "python",
   "pygments_lexer": "ipython3",
   "version": "3.13.7"
  }
 },
 "nbformat": 4,
 "nbformat_minor": 5
}
