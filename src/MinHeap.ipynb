{
 "cells": [
  {
   "cell_type": "code",
   "execution_count": 1,
   "id": "c71d58c7-c167-4679-b9a7-9f92b60458cc",
   "metadata": {},
   "outputs": [],
   "source": [
    "import numpy as np\n",
    "import math"
   ]
  },
  {
   "cell_type": "code",
   "execution_count": 2,
   "id": "c9ea1528-32f6-4cd1-b145-c14415e67eb7",
   "metadata": {
    "jupyter": {
     "source_hidden": true
    }
   },
   "outputs": [],
   "source": [
    "class MinHeap:\n",
    "    def __init__(self):\n",
    "        self.nodes = []\n",
    "\n",
    "    def get_min(self):\n",
    "        return self.nodes[0]\n",
    "\n",
    "    def pop_min(self):\n",
    "        if len(self.nodes) == 0:\n",
    "            return -1\n",
    "        elif len(self.nodes) == 1:\n",
    "            m = self.nodes[0]\n",
    "            self.nodes = []\n",
    "            return m\n",
    "        else:\n",
    "            m = self.nodes[0]\n",
    "            l = self.nodes[-1]\n",
    "            self.nodes = self.nodes[:-1]\n",
    "            self.nodes[0] = l\n",
    "            # perculate down\n",
    "            p = 0\n",
    "            l = 2*p + 1\n",
    "            r = 2*p + 2\n",
    "            while r < len(self.nodes) and self.nodes[p] > min(self.nodes[l], self.nodes[r]):\n",
    "                if self.nodes[l] > self.nodes[r]:\n",
    "                    t = self.nodes[p]\n",
    "                    self.nodes[p] = self.nodes[r]\n",
    "                    self.nodes[r] = t\n",
    "                    p = r\n",
    "                else:\n",
    "                    t = self.nodes[p]\n",
    "                    self.nodes[p] = self.nodes[l]\n",
    "                    self.nodes[l] = t\n",
    "                    p = l\n",
    "                l = 2*p + 1\n",
    "                r = 2*p + 2\n",
    "            # accounting for odd case where there is not a left and right\n",
    "            if len(self.nodes) % 2 == 0 and self.nodes[-1] < self.nodes[(len(self.nodes) - 2) // 2]:\n",
    "                # swap values\n",
    "                t = self.nodes[-1]\n",
    "                self.nodes[-1] = self.nodes[(len(self.nodes) - 2) // 2]\n",
    "                self.nodes[(len(self.nodes) - 2) // 2] = t\n",
    "            return m\n",
    "\n",
    "    def insert(self, x):\n",
    "        self.nodes.append(x)\n",
    "        i = len(self.nodes)-1\n",
    "        p = (i - 1) // 2\n",
    "        while i > 0 and self.nodes[p] > self.nodes[i]:\n",
    "            t = self.nodes[p]\n",
    "            self.nodes[p] = self.nodes[i]\n",
    "            self.nodes[i] = t\n",
    "            i = p\n",
    "            p = (i - 1) // 2\n"
   ]
  },
  {
   "cell_type": "code",
   "execution_count": 3,
   "id": "d410d53b-4aa2-4d44-a69b-6996733e8cf4",
   "metadata": {},
   "outputs": [],
   "source": [
    "mh = MinHeap()\n",
    "\n",
    "n = np.random.randint(1000,size=50)\n",
    "for i in range(50):\n",
    "    mh.insert(int(n[i]))"
   ]
  },
  {
   "cell_type": "code",
   "execution_count": 4,
   "id": "dff17a61-32b8-4da5-aab1-e555cca80a5e",
   "metadata": {},
   "outputs": [
    {
     "name": "stdout",
     "output_type": "stream",
     "text": [
      "[36, 46, 46, 193, 60, 59, 367, 301, 316, 188, 67, 105, 437, 752, 480, 574, 503, 589, 644, 775, 553, 463, 79, 479, 402, 464, 699, 953, 765, 854, 935, 775, 920, 865, 887, 669, 833, 883, 708, 965, 853, 957, 799, 940, 888, 916, 750, 826, 640, 506]\n"
     ]
    }
   ],
   "source": [
    "print(mh.nodes)"
   ]
  },
  {
   "cell_type": "code",
   "execution_count": 5,
   "id": "873ed71a-255a-4df2-b7f5-375568cff902",
   "metadata": {},
   "outputs": [
    {
     "data": {
      "text/plain": [
       "True"
      ]
     },
     "execution_count": 5,
     "metadata": {},
     "output_type": "execute_result"
    }
   ],
   "source": [
    "sorted(mh.nodes) == [mh.pop_min() for i in range(50)]"
   ]
  },
  {
   "cell_type": "code",
   "execution_count": 109,
   "id": "7e4f6f2b-ba5f-413a-a00f-ccfd6f05ac64",
   "metadata": {
    "jupyter": {
     "source_hidden": true
    }
   },
   "outputs": [],
   "source": [
    "class PairingHeap:\n",
    "    def __init__(self, key, payload):\n",
    "        self.key = key\n",
    "        self.payload = payload\n",
    "        self.child = None\n",
    "        self.left = None\n",
    "        self.right = None\n",
    "    \n",
    "    def meld(self, other):\n",
    "        \"\"\"\n",
    "        Meld other and self. You should only meld 2 roots.\n",
    "        Parameters:\n",
    "            other(PairingHeap): PairingHeap to be melded with self\n",
    "        Return:\n",
    "            (PairingHeap): resultant pairing heap\n",
    "        \"\"\"\n",
    "        if self.key >= other.key:\n",
    "            # set other as left child of self\n",
    "            if self.child is not None:\n",
    "                self.child.left = other\n",
    "            other.right = self.child\n",
    "            self.child = other\n",
    "            # left of the left-most sibling is the parent\n",
    "            other.left = self\n",
    "            return self\n",
    "        else:\n",
    "            # set self as left child of other\n",
    "            if other.child is not None:\n",
    "                other.child.left = self\n",
    "            self.right = other.child\n",
    "            other.child = self\n",
    "            self.left = other\n",
    "            return other\n",
    "\n",
    "    def insert(self, key, payload):\n",
    "        # probably will not be used if you want to \n",
    "        new_tree = PairingHeap(key, payload)\n",
    "        return self.meld(new_tree)\n",
    "\n",
    "    def increase_key(self, n, i):\n",
    "        n.key += i\n",
    "        # remove from sibling linked list\n",
    "        if n.right is not None:\n",
    "            n.right.left = n.left\n",
    "        if n.left is not None:\n",
    "            if n.left.child == n:\n",
    "                n.left.child = n.right\n",
    "            else:\n",
    "                n.left.right = n.right\n",
    "        # meld self with the node with increased key\n",
    "        return self.meld(n)\n",
    "\n",
    "    def remove_max(self):\n",
    "        \n",
    "        result = (self.key, self.payload)\n",
    "\n",
    "        # first pass\n",
    "        children = [self.child]\n",
    "        while children[-1] is not None:\n",
    "            if children[-1].right is not None:\n",
    "                s = children[-1].right\n",
    "                t = children[-1].right.right\n",
    "                s.right = None\n",
    "                s.left = None\n",
    "                children[-1].right = None\n",
    "                children[-1].left = None\n",
    "                children[-1] = children[-1].meld(s)\n",
    "                children.append(t)\n",
    "            else:\n",
    "                children.append(None)\n",
    "                break\n",
    "        # remove None from end of list\n",
    "        children = children[:-1]\n",
    "\n",
    "        # second pass\n",
    "        while len(children) > 1:\n",
    "            children = children[:-2] + [children[-1].meld(children[-2])]\n",
    "        # If the node is the last in the PairingHeap, then children will have length 0\n",
    "        # return None as the new PairingHeap\n",
    "        children.append(None)\n",
    "        return result, children[0]\n",
    "\n",
    "    def dfs(self):\n",
    "        # print key in depth first manner\n",
    "        if self.child is not None:\n",
    "            self.child.dfs()\n",
    "        print(self.key)\n",
    "        if self.right is not None:\n",
    "            self.right.dfs()\n",
    "\n",
    "    def __str__(self):\n",
    "        return f\"{self.key}\""
   ]
  },
  {
   "cell_type": "code",
   "execution_count": null,
   "id": "e4004cc1-f3d0-4b93-9795-52fb6a497a5c",
   "metadata": {},
   "outputs": [],
   "source": [
    "class Flight:\n",
    "    def __init__(self, flightID, airlineID, submitTime, priority, duration):\n",
    "        self.flightID = flightID\n",
    "        self.airlineID = airlineID\n",
    "        self.submitTime = submitTime\n",
    "        self.priority = 0\n",
    "        self.duration = 0\n",
    "        self.statue = \"pending\"\n",
    "\n",
    "pending_flights = None # PairingHeap\n",
    "runway_pool = MinHeap()\n",
    "active_flights = {} # flightID: Flight\n",
    "time_table = MinHeap() # ((eta, flightID), (runwayID))\n",
    "airline_index = {}#airlineID: [flightID]\n",
    "handles = {}#flightID: PairingHeap"
   ]
  },
  {
   "cell_type": "code",
   "execution_count": null,
   "id": "5f91a5ee-cda2-4021-9624-33c8dd89cabf",
   "metadata": {},
   "outputs": [],
   "source": [
    "class Scheduler:\n",
    "    def __init__(self, n):\n",
    "        self.pending_flights = None # PairingHeap\n",
    "        self.runway_pool = MinHeap()\n",
    "        self.active_flights = {} # flightID: Flight\n",
    "        self.time_table = MinHeap() # ((eta, flightID), (runwayID))\n",
    "        self.airline_index = {}#airlineID: [flightID]\n",
    "        self.handles = {}#flightID: PairingHeap\n",
    "        \n",
    "        if n <= 0:\n",
    "            print(\"Invalid input. Please provide a valid number of runways.\")\n",
    "        else:\n",
    "            for i in range(1,n+1):\n",
    "                self.runway_pool.insert((0,i), (i,0))\n",
    "            self.currentTime = 0\n",
    "            self.numRunways = n\n",
    "            print(f\"{n} runways are now available\")\n",
    "\n",
    "    \n",
    "    def submitFlight(self, flightID, airlineID, submitTime, priority, duration):\n",
    "        # TODO: settle\n",
    "        # TODO: reschedule\n",
    "        self.currentTime = currentTime\n",
    "        if flightID in self.handles:\n",
    "            print(\"Duplicate flight\")\n",
    "        else:\n",
    "            # new flight\n",
    "            f = (flightID, airlineID, submitTime, priority, duration, 0)\n",
    "            new_flight = PairingHeap((priority, -submitTime, -flightID), f)\n",
    "            handles[flightID] = new_flight\n",
    "            if self.pending_flights is not None:\n",
    "                self.pending_flights.meld(new_flight)\n",
    "            else:\n",
    "                self.pending_flights = new_flight\n",
    "            # TODO: reschedule\n",
    "            print(f\"Flight {flightID} scheduled - ETA: {handles[flightID].payload[5]}\")\n",
    "            # TODO: print updated ETAs\n",
    "\n",
    "    \n",
    "    def cancelFlight(self, flightID, currentTime):\n",
    "        # TODO: settle, reschedule\n",
    "        self.currentTime = currentTime\n",
    "        if flightID not in self.handles:\n",
    "            print(\"Flight does not exist.\")\n",
    "        elif flightID in self.active_flights:\n",
    "            print(f\"Cannot cancel: Flight {flightID} has already departed.\")\n",
    "        else:\n",
    "            self.pending_flights.remove(handles[flightID])\n",
    "            # shouldn't be in active_flights\n",
    "            self.time_table.arbitrary_remove((handles[flightID].payload.eta, flightID))\n",
    "            # TODO: inefficient method of removing from airline_index\n",
    "            self.airline_index[handles[flightID].payload.airlineID] = [c for c in self.airline_index[handles[flightID].payload.airlineID] if c != handles[flightID].payload.flightID]\n",
    "            handles[flightID] = None\n",
    "            \n",
    "            # TODO: reschedule\n",
    "            print(f\"Flight {flightID} has been canceled.\")\n",
    "\n",
    "            # TODO: print updated ETAs\n",
    "\n",
    "\n",
    "    def reprioritize(self, flightID, currentTime, newPriority):\n",
    "        # TODO: settle, reschedule\n",
    "        self.currentTime = currentTime\n",
    "        if flightID not in self.handles:\n",
    "            print(\"Flight does not exist.\")\n",
    "        elif flightID in self.active_flights:\n",
    "            print(f\"Cannot reprioritize: Flight {flightID} has already departed.\")\n",
    "        else:\n",
    "            # TODO: what if newPriority < oldPriority\n",
    "            self.pending_flights.increase_key(self.handles[flightID], newPriority)\n",
    "            # TODO: reschedule\n",
    "            print(f\"Priority of Flight {flightID} has been updated to {newPriority}\")\n",
    "            # TODO: print updated ETAs\n",
    "\n",
    "\n",
    "    def addRunways(self, count, currentTime):\n",
    "        # TODO: settle, reschedule\n",
    "        self.currentTime = currentTime\n",
    "        if count <= 0:\n",
    "            print(\"Invalid input. Please provide a valid number of runways.\")\n",
    "        else:\n",
    "            for i in range(self.numRunways + 1,self.numRunways + 1 + count):\n",
    "                self.runway_pool.insert((currentTime,i), (i,currentTime))\n",
    "            # TODO: reschedule\n",
    "            print(f\"Additional {count} runways are now available\")\n",
    "            # TODO: print updated ETAs\n",
    "\n",
    "    def groundHold(self, airlineLow, airlineHigh, currentTime):\n",
    "        # TODO: settle, reschedule\n",
    "        self.currentTime = currentTime\n",
    "        if airlineHigh < airlineLow:\n",
    "            print(\"Invalid input. Please provide a valid airline range.\")\n",
    "        else:\n",
    "            # TODO: remove flights from data structures\n",
    "            # TODO: reschedule\n",
    "            print(f\"GroundHold applied to airlines[{airlineLow},{airlineHigh}].\")\n",
    "            # TODO: print updated ETAs\n",
    "\n",
    "\n",
    "    def printActive(self):\n",
    "        i = 0\n",
    "        for key in sorted(self.active_flights.keys()):\n",
    "            print(self.active_flights[key])\n",
    "            i = 1\n",
    "        if i == 0:\n",
    "            print(\"No active flights\")\n",
    "\n",
    "    def printSchedule(self, t1, t2):\n",
    "        flights = [f for f in self.active_flights.values() if f.state == \"SCHEDULED\" and f.startTime < self.currentTime and t1 <= f.ETA and t2 >= f.ETA]\n",
    "        for f in sorted(flights, key=lambda f: (f.ETA, f.flightID)):\n",
    "            print(f\"[{f.fligtID}]\")\n",
    "        if len(flights) == 0:\n",
    "            print(\"There are no flights in that time period\")\n",
    "\n",
    "\n",
    "    def tick(self, t):\n",
    "        self.currentTime = t\n",
    "        # TODO: settle, reschedule\n",
    "        # TODO: print updated ETAs"
   ]
  },
  {
   "cell_type": "code",
   "execution_count": 110,
   "id": "cbb4fde3-f255-4f33-b229-56a66f05f89d",
   "metadata": {},
   "outputs": [],
   "source": [
    "np.random.seed(1)\n",
    "n = np.random.randint(100,size=5)\n",
    "ph = PairingHeap(n[0],1)\n",
    "nodes = [ph]\n",
    "for i in range(1,5):\n",
    "    nodes.append(PairingHeap(n[i],1))\n",
    "    ph = ph.meld(nodes[-1])"
   ]
  },
  {
   "cell_type": "code",
   "execution_count": 111,
   "id": "45c1b5ee-a200-47e5-8f54-b4c48a1e4911",
   "metadata": {},
   "outputs": [
    {
     "data": {
      "text/plain": [
       "['37', '12', '72', '9', '75']"
      ]
     },
     "execution_count": 111,
     "metadata": {},
     "output_type": "execute_result"
    }
   ],
   "source": [
    "[n.__str__() for n in nodes]"
   ]
  },
  {
   "cell_type": "code",
   "execution_count": 112,
   "id": "6166de77-929a-456b-a312-c848a7c05b15",
   "metadata": {},
   "outputs": [
    {
     "name": "stdout",
     "output_type": "stream",
     "text": [
      "9\n",
      "12\n",
      "37\n",
      "72\n",
      "75\n"
     ]
    }
   ],
   "source": [
    "ph.dfs()"
   ]
  },
  {
   "cell_type": "code",
   "execution_count": 113,
   "id": "fb4671ed-4744-4368-84a0-50e028d7b501",
   "metadata": {},
   "outputs": [],
   "source": [
    "ph = ph.increase_key(nodes[2], 10)"
   ]
  },
  {
   "cell_type": "code",
   "execution_count": 114,
   "id": "6e268b7e-699d-49bc-827a-1d4ce446f5f3",
   "metadata": {},
   "outputs": [
    {
     "name": "stdout",
     "output_type": "stream",
     "text": [
      "75\n",
      "9\n",
      "12\n",
      "37\n",
      "82\n"
     ]
    }
   ],
   "source": [
    "ph.dfs()"
   ]
  },
  {
   "cell_type": "code",
   "execution_count": 115,
   "id": "88374ada-65ef-4314-8f2b-0e510f3d20b9",
   "metadata": {},
   "outputs": [],
   "source": [
    "r, ph = ph.remove_max()"
   ]
  },
  {
   "cell_type": "code",
   "execution_count": 116,
   "id": "564a06fe-e1b5-463d-bbe7-2a4376b63cd7",
   "metadata": {},
   "outputs": [
    {
     "data": {
      "text/plain": [
       "(np.int64(82), 1)"
      ]
     },
     "execution_count": 116,
     "metadata": {},
     "output_type": "execute_result"
    }
   ],
   "source": [
    "r"
   ]
  },
  {
   "cell_type": "code",
   "execution_count": 117,
   "id": "6fb9a920-5aa6-4acc-87bb-0568f2db4d2f",
   "metadata": {},
   "outputs": [
    {
     "name": "stdout",
     "output_type": "stream",
     "text": [
      "12\n",
      "37\n",
      "9\n",
      "75\n"
     ]
    }
   ],
   "source": [
    "ph.dfs()"
   ]
  },
  {
   "cell_type": "code",
   "execution_count": 118,
   "id": "e2d1df2f-d5a9-4387-b570-48c279703ca2",
   "metadata": {},
   "outputs": [
    {
     "ename": "AttributeError",
     "evalue": "'NoneType' object has no attribute 'remove_max'",
     "output_type": "error",
     "traceback": [
      "\u001b[31m---------------------------------------------------------------------------\u001b[39m",
      "\u001b[31mAttributeError\u001b[39m                            Traceback (most recent call last)",
      "\u001b[36mCell\u001b[39m\u001b[36m \u001b[39m\u001b[32mIn[118]\u001b[39m\u001b[32m, line 3\u001b[39m\n\u001b[32m      1\u001b[39m l = []\n\u001b[32m      2\u001b[39m \u001b[38;5;28;01mfor\u001b[39;00m i \u001b[38;5;129;01min\u001b[39;00m \u001b[38;5;28mrange\u001b[39m(\u001b[32m5\u001b[39m):\n\u001b[32m----> \u001b[39m\u001b[32m3\u001b[39m     r, ph = \u001b[43mph\u001b[49m\u001b[43m.\u001b[49m\u001b[43mremove_max\u001b[49m()\n\u001b[32m      4\u001b[39m     l.append(r)\n\u001b[32m      5\u001b[39m l\n",
      "\u001b[31mAttributeError\u001b[39m: 'NoneType' object has no attribute 'remove_max'"
     ]
    }
   ],
   "source": [
    "l = []\n",
    "for i in range(5):\n",
    "    r, ph = ph.remove_max()\n",
    "    l.append(r)\n",
    "l"
   ]
  },
  {
   "cell_type": "code",
   "execution_count": 56,
   "id": "fcfdc24c-6b74-4abe-8500-1ecbdf0c82f1",
   "metadata": {},
   "outputs": [],
   "source": [
    "ph"
   ]
  },
  {
   "cell_type": "code",
   "execution_count": 119,
   "id": "86fa77e5-037e-4d57-a837-59458ad031df",
   "metadata": {},
   "outputs": [
    {
     "data": {
      "text/plain": [
       "[(np.int64(75), 1), (np.int64(37), 1), (np.int64(12), 1), (np.int64(9), 1)]"
      ]
     },
     "execution_count": 119,
     "metadata": {},
     "output_type": "execute_result"
    }
   ],
   "source": [
    "l"
   ]
  },
  {
   "cell_type": "code",
   "execution_count": 120,
   "id": "2b08a817-1e30-4cb4-bfbc-45b7ecd9a4f7",
   "metadata": {},
   "outputs": [
    {
     "data": {
      "text/plain": [
       "(1, 4, 3, 2)"
      ]
     },
     "execution_count": 120,
     "metadata": {},
     "output_type": "execute_result"
    }
   ],
   "source": [
    "(1,4) + (3,2)"
   ]
  },
  {
   "cell_type": "code",
   "execution_count": null,
   "id": "c6fa4c4f-885b-43dc-ab61-e42512a60ea5",
   "metadata": {},
   "outputs": [],
   "source": []
  }
 ],
 "metadata": {
  "kernelspec": {
   "display_name": "Python 3 (ipykernel)",
   "language": "python",
   "name": "python3"
  },
  "language_info": {
   "codemirror_mode": {
    "name": "ipython",
    "version": 3
   },
   "file_extension": ".py",
   "mimetype": "text/x-python",
   "name": "python",
   "nbconvert_exporter": "python",
   "pygments_lexer": "ipython3",
   "version": "3.13.7"
  }
 },
 "nbformat": 4,
 "nbformat_minor": 5
}
