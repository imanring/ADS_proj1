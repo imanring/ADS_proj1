{
 "cells": [
  {
   "cell_type": "code",
   "execution_count": 1,
   "id": "c71d58c7-c167-4679-b9a7-9f92b60458cc",
   "metadata": {},
   "outputs": [],
   "source": [
    "import numpy as np\n",
    "import math"
   ]
  },
  {
   "cell_type": "code",
   "execution_count": 2,
   "id": "c9ea1528-32f6-4cd1-b145-c14415e67eb7",
   "metadata": {
    "jupyter": {
     "source_hidden": true
    }
   },
   "outputs": [],
   "source": [
    "class MinHeap:\n",
    "    def __init__(self):\n",
    "        self.nodes = []\n",
    "\n",
    "    def get_min(self):\n",
    "        return self.nodes[0]\n",
    "\n",
    "    def pop_min(self):\n",
    "        if len(self.nodes) == 0:\n",
    "            return -1\n",
    "        elif len(self.nodes) == 1:\n",
    "            m = self.nodes[0]\n",
    "            self.nodes = []\n",
    "            return m\n",
    "        else:\n",
    "            m = self.nodes[0]\n",
    "            l = self.nodes[-1]\n",
    "            self.nodes = self.nodes[:-1]\n",
    "            self.nodes[0] = l\n",
    "            # perculate down\n",
    "            p = 0\n",
    "            l = 2*p + 1\n",
    "            r = 2*p + 2\n",
    "            while r < len(self.nodes) and self.nodes[p] > min(self.nodes[l], self.nodes[r]):\n",
    "                if self.nodes[l] > self.nodes[r]:\n",
    "                    t = self.nodes[p]\n",
    "                    self.nodes[p] = self.nodes[r]\n",
    "                    self.nodes[r] = t\n",
    "                    p = r\n",
    "                else:\n",
    "                    t = self.nodes[p]\n",
    "                    self.nodes[p] = self.nodes[l]\n",
    "                    self.nodes[l] = t\n",
    "                    p = l\n",
    "                l = 2*p + 1\n",
    "                r = 2*p + 2\n",
    "            # accounting for odd case where there is not a left and right\n",
    "            if len(self.nodes) % 2 == 0 and self.nodes[-1] < self.nodes[(len(self.nodes) - 2) // 2]:\n",
    "                # swap values\n",
    "                t = self.nodes[-1]\n",
    "                self.nodes[-1] = self.nodes[(len(self.nodes) - 2) // 2]\n",
    "                self.nodes[(len(self.nodes) - 2) // 2] = t\n",
    "            return m\n",
    "\n",
    "    def insert(self, x):\n",
    "        self.nodes.append(x)\n",
    "        i = len(self.nodes)-1\n",
    "        p = (i - 1) // 2\n",
    "        while i > 0 and self.nodes[p] > self.nodes[i]:\n",
    "            t = self.nodes[p]\n",
    "            self.nodes[p] = self.nodes[i]\n",
    "            self.nodes[i] = t\n",
    "            i = p\n",
    "            p = (i - 1) // 2\n"
   ]
  },
  {
   "cell_type": "code",
   "execution_count": 3,
   "id": "d410d53b-4aa2-4d44-a69b-6996733e8cf4",
   "metadata": {},
   "outputs": [],
   "source": [
    "mh = MinHeap()\n",
    "\n",
    "n = np.random.randint(1000,size=50)\n",
    "for i in range(50):\n",
    "    mh.insert(int(n[i]))"
   ]
  },
  {
   "cell_type": "code",
   "execution_count": 4,
   "id": "dff17a61-32b8-4da5-aab1-e555cca80a5e",
   "metadata": {},
   "outputs": [
    {
     "name": "stdout",
     "output_type": "stream",
     "text": [
      "[36, 46, 46, 193, 60, 59, 367, 301, 316, 188, 67, 105, 437, 752, 480, 574, 503, 589, 644, 775, 553, 463, 79, 479, 402, 464, 699, 953, 765, 854, 935, 775, 920, 865, 887, 669, 833, 883, 708, 965, 853, 957, 799, 940, 888, 916, 750, 826, 640, 506]\n"
     ]
    }
   ],
   "source": [
    "print(mh.nodes)"
   ]
  },
  {
   "cell_type": "code",
   "execution_count": 5,
   "id": "873ed71a-255a-4df2-b7f5-375568cff902",
   "metadata": {},
   "outputs": [
    {
     "data": {
      "text/plain": [
       "True"
      ]
     },
     "execution_count": 5,
     "metadata": {},
     "output_type": "execute_result"
    }
   ],
   "source": [
    "sorted(mh.nodes) == [mh.pop_min() for i in range(50)]"
   ]
  },
  {
   "cell_type": "code",
   "execution_count": 90,
   "id": "7e4f6f2b-ba5f-413a-a00f-ccfd6f05ac64",
   "metadata": {},
   "outputs": [],
   "source": [
    "class PairingHeap:\n",
    "    def __init__(self, x):\n",
    "        self.key = x\n",
    "        self.child = None\n",
    "        self.left = None\n",
    "        self.right = None\n",
    "    \n",
    "    def meld(self, other):\n",
    "        \"\"\"\n",
    "        Meld other and self. You should only meld 2 roots.\n",
    "        Parameters:\n",
    "            other(PairingHeap): PairingHeap to be melded with self\n",
    "        Return:\n",
    "            (PairingHeap): resultant pairing heap\n",
    "        \"\"\"\n",
    "        if self.key >= other.key:\n",
    "            # set other as left child of self\n",
    "            if self.child is not None:\n",
    "                self.child.left = other\n",
    "            other.right = self.child\n",
    "            self.child = other\n",
    "            # left of the left-most sibling is the parent\n",
    "            other.left = self\n",
    "            return self\n",
    "        else:\n",
    "            # set self as left child of other\n",
    "            if other.child is not None:\n",
    "                other.child.left = self\n",
    "            self.right = other.child\n",
    "            other.child = self\n",
    "            self.left = other\n",
    "            return other\n",
    "\n",
    "    def insert(self, x):\n",
    "        # probably will not be used if you want to \n",
    "        new_tree = PairingHeap(x)\n",
    "        return self.meld(new_tree)\n",
    "\n",
    "    def increase_key(self, n, i):\n",
    "        n.key += i\n",
    "        # remove from sibling linked list\n",
    "        if n.right is not None:\n",
    "            n.right.left = n.left\n",
    "        if n.left is not None:\n",
    "            if n.left.child == n:\n",
    "                n.left.child = n.right\n",
    "            else:\n",
    "                n.left.right = n.right\n",
    "        # meld self with the node with increased key\n",
    "        return self.meld(n)\n",
    "\n",
    "    def remove_max(self):\n",
    "        \n",
    "        result = self.key\n",
    "\n",
    "        # first pass\n",
    "        children = [self.child]\n",
    "        while children[-1] is not None:\n",
    "            if children[-1].right is not None:\n",
    "                s = children[-1].right\n",
    "                t = children[-1].right.right\n",
    "                s.right = None\n",
    "                s.left = None\n",
    "                children[-1].right = None\n",
    "                children[-1].left = None\n",
    "                children[-1] = children[-1].meld(s)\n",
    "                children.append(t)\n",
    "            else:\n",
    "                children.append(None)\n",
    "                break\n",
    "        # remove None from end of list\n",
    "        children = children[:-1]\n",
    "\n",
    "        # second pass\n",
    "        while len(children) > 1:\n",
    "            children = children[:-2] + [children[-1].meld(children[-2])]\n",
    "        # If the node is the last in the PairingHeap, then children will have length 0\n",
    "        # return None as the new PairingHeap\n",
    "        children.append(None)\n",
    "        return result, children[0]\n",
    "\n",
    "    def dfs(self):\n",
    "        # print key in depth first manner\n",
    "        if self.child is not None:\n",
    "            self.child.dfs()\n",
    "        print(self.key)\n",
    "        if self.right is not None:\n",
    "            self.right.dfs()\n",
    "\n",
    "    def __str__(self):\n",
    "        return f\"{self.key}\""
   ]
  },
  {
   "cell_type": "code",
   "execution_count": 91,
   "id": "cbb4fde3-f255-4f33-b229-56a66f05f89d",
   "metadata": {},
   "outputs": [],
   "source": [
    "np.random.seed(1)\n",
    "n = np.random.randint(100,size=5)\n",
    "ph = PairingHeap(n[0])\n",
    "nodes = [ph]\n",
    "for i in range(1,5):\n",
    "    nodes.append(PairingHeap(n[i]))\n",
    "    ph = ph.meld(nodes[-1])"
   ]
  },
  {
   "cell_type": "code",
   "execution_count": 96,
   "id": "45c1b5ee-a200-47e5-8f54-b4c48a1e4911",
   "metadata": {},
   "outputs": [
    {
     "data": {
      "text/plain": [
       "['37', '12', '82', '9', '75']"
      ]
     },
     "execution_count": 96,
     "metadata": {},
     "output_type": "execute_result"
    }
   ],
   "source": [
    "[n.__str__() for n in nodes]"
   ]
  },
  {
   "cell_type": "code",
   "execution_count": 93,
   "id": "6166de77-929a-456b-a312-c848a7c05b15",
   "metadata": {},
   "outputs": [
    {
     "name": "stdout",
     "output_type": "stream",
     "text": [
      "9\n",
      "12\n",
      "37\n",
      "72\n",
      "75\n"
     ]
    }
   ],
   "source": [
    "ph.dfs()"
   ]
  },
  {
   "cell_type": "code",
   "execution_count": 94,
   "id": "fb4671ed-4744-4368-84a0-50e028d7b501",
   "metadata": {},
   "outputs": [],
   "source": [
    "ph = ph.increase_key(nodes[2], 10)"
   ]
  },
  {
   "cell_type": "code",
   "execution_count": 95,
   "id": "6e268b7e-699d-49bc-827a-1d4ce446f5f3",
   "metadata": {},
   "outputs": [
    {
     "name": "stdout",
     "output_type": "stream",
     "text": [
      "75\n",
      "9\n",
      "12\n",
      "37\n",
      "82\n"
     ]
    }
   ],
   "source": [
    "ph.dfs()"
   ]
  },
  {
   "cell_type": "code",
   "execution_count": 104,
   "id": "88374ada-65ef-4314-8f2b-0e510f3d20b9",
   "metadata": {},
   "outputs": [],
   "source": [
    "r, ph = ph.remove_max()"
   ]
  },
  {
   "cell_type": "code",
   "execution_count": 105,
   "id": "564a06fe-e1b5-463d-bbe7-2a4376b63cd7",
   "metadata": {},
   "outputs": [
    {
     "data": {
      "text/plain": [
       "np.int64(37)"
      ]
     },
     "execution_count": 105,
     "metadata": {},
     "output_type": "execute_result"
    }
   ],
   "source": [
    "r"
   ]
  },
  {
   "cell_type": "code",
   "execution_count": 106,
   "id": "6fb9a920-5aa6-4acc-87bb-0568f2db4d2f",
   "metadata": {},
   "outputs": [
    {
     "name": "stdout",
     "output_type": "stream",
     "text": [
      "9\n",
      "12\n"
     ]
    }
   ],
   "source": [
    "ph.dfs()"
   ]
  },
  {
   "cell_type": "code",
   "execution_count": 54,
   "id": "e2d1df2f-d5a9-4387-b570-48c279703ca2",
   "metadata": {},
   "outputs": [
    {
     "data": {
      "text/plain": [
       "[75, 72, np.int64(37), 12, 9]"
      ]
     },
     "execution_count": 54,
     "metadata": {},
     "output_type": "execute_result"
    }
   ],
   "source": [
    "l = []\n",
    "for i in range(5):\n",
    "    r, ph = ph.remove_max()\n",
    "    l.append(r)\n",
    "l"
   ]
  },
  {
   "cell_type": "code",
   "execution_count": 56,
   "id": "fcfdc24c-6b74-4abe-8500-1ecbdf0c82f1",
   "metadata": {},
   "outputs": [],
   "source": [
    "ph"
   ]
  },
  {
   "cell_type": "code",
   "execution_count": null,
   "id": "86fa77e5-037e-4d57-a837-59458ad031df",
   "metadata": {},
   "outputs": [],
   "source": []
  }
 ],
 "metadata": {
  "kernelspec": {
   "display_name": "Python 3 (ipykernel)",
   "language": "python",
   "name": "python3"
  },
  "language_info": {
   "codemirror_mode": {
    "name": "ipython",
    "version": 3
   },
   "file_extension": ".py",
   "mimetype": "text/x-python",
   "name": "python",
   "nbconvert_exporter": "python",
   "pygments_lexer": "ipython3",
   "version": "3.13.7"
  }
 },
 "nbformat": 4,
 "nbformat_minor": 5
}
